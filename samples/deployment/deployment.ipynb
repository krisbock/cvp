{
 "cells": [
  {
   "cell_type": "markdown",
   "metadata": {},
   "source": [
    "# Computer Vision Model Deployment\n",
    "\n",
    "\n",
    "# Introduction:\n",
    "\n",
    "Operationalization is the process of publishing models and code as web services and the consumption of these services to produce business results. Once your model is trained, you can deploy your trained model as a webservice for consumption with [Azure Machine Learning CLI](https://docs.microsoft.com/en-us/azure/machine-learning/preview/cli-for-azure-machine-learning). The API can automatically generate required information and call [Azure Machine Learning Model Management](https://docs.microsoft.com/en-us/azure/machine-learning/desktop-workbench/model-management-overview) service to deploy your model. Your model can be deployed to an Azure Container Service (ACS) cluster as a webservice. It also provides some autoscaling functionality for your webservice. Also provided are instructions on how to deploy your model to edge devices to apply computer vision models to data that can’t make it to the cloud due to data sovereignty, privacy, and/or bandwidth issues.\n",
    "\n",
    "What is covered in this notebook: \n",
    "1. <a href='#prerequisite'>Prerequisites</a>\n",
    "- <a href='#cloud_deployment'>Cloud Deployment</a>\n",
    "- <a href='#webservice_consumption'>Webservice Consumption</a>\n",
    "- <a href='#edge_deployment'>Edge Deployment</a>\n",
    "- <a href='#FAQ'>Advanced topics and FAQ</a>\n",
    "- <a href='#troubleshooting'>Troubleshooting</a>"
   ]
  },
  {
   "cell_type": "markdown",
   "metadata": {},
   "source": [
    "# 1. Prerequisites:<a id='prerequisite'></a>\n",
    "   - You will need the following required CLI setup ([Azure](https://azure.microsoft.com/en-us/) account, [Azure ML Model Management](https://docs.microsoft.com/en-us/azure/machine-learning/preview/model-management-overview) account, deployment environment) before running the deployment code. You only need to set it up once for all your deployments. **Note: Please DO NOT use Azure ML Model Management account with region of \"eastus2\" now. Deployment environment (ACS cluster) with region of \"westcentralus\" has known provision issue.**"
   ]
  },
  {
   "cell_type": "markdown",
   "metadata": {},
   "source": [
    "   - You need an [Azure](https://azure.microsoft.com/en-us/) account with a valid subscription. You need to login to your account if you haven't done so. Change to your target subscription if you need.\n",
    "   >Azure CLI command to login: \n",
    "   `az login` \n",
    "   \n",
    "   >Azure CLI command to change subscription: \n",
    "   `az account set --subscription [your subscription name]` \n",
    "   \n",
    "   - You need an [Azure ML Model Management](https://docs.microsoft.com/en-us/azure/machine-learning/preview/model-management-overview) account. You need to set your model management account in CLI if you haven't done it before. You only need to set it once for all your deployments. **Note: Please create your Azure Machine Learning Model Management account with location close to your location, avoiding \"eastus2\" for now (Because some locations are having deployment timeout issue).** For more details, you can follow the instructions [here](https://docs.microsoft.com/en-us/azure/machine-learning/preview/deployment-setup-configuration#create-a-model-management-account). The below CLI command shows how to create your active model management account: `az ml account modelmanagement show`\n",
    "   >Azure CLI command example to create and set model management account:\n",
    "   ```\n",
    "   az ml account modelmanagement create -l [Azure region, e.g. westcentralus] -n [your account name] -g [resource group name] --sku-instances [number of instances, e.g. 1] --sku-name [Pricing tier for example S1]\n",
    "   az ml account modelmanagement set -n [your account name] -g [resource group it was created in]\n",
    "   ``` \n",
    "   - You need a deployment environment (cluster). If you don't have one, please follow the CLI command example provided below to set up a cloud deployment environment. More details can be found in this [page](https://docs.microsoft.com/en-us/azure/machine-learning/preview/deployment-setup-configuration#environment-setup). **Note: Deployment environment (ACS cluster) with region of \"westcentralus\" has known provision issue.** You can use this CLI command to show your active deployment environment: ```az ml env show```\n",
    "   \n",
    "   >Azure CLI command example to create and set deployment environment\n",
    "    ```\n",
    "    az provider register -n Microsoft.MachineLearningCompute\n",
    "    az provider register -n Microsoft.ContainerRegistry\n",
    "    az provider register -n Microsoft.ContainerService\n",
    "    az ml env setup --cluster -n [your environment name] -l [Azure region e.g. eastus2] [-g [resource group]]\n",
    "    az ml env set -n [environment name] -g [resource group]\n",
    "    az ml env cluster\n",
    "    ```"
   ]
  },
  {
   "cell_type": "code",
   "execution_count": null,
   "metadata": {},
   "outputs": [],
   "source": [
    "# ##### OPTIONAL - Interactive CLI setup helper ###### \n",
    "# # Interactive CLI setup helper, including model management account and deployment environment.\n",
    "# # If you haven't setup you CLI before or if you want to change you CLI settings, you can use this block to help you interactively.\n",
    "# # UNCOMMENT THE FOLLOWING LINES IF YOU HAVE NOT CREATED OR SET THE MODEL MANAGEMENT ACCOUNT AND DEPLOYMENT ENVIRONMENT\n",
    "\n",
    "# from azuremltkbase.deployment import CliSetup\n",
    "# CliSetup().run()"
   ]
  },
  {
   "cell_type": "markdown",
   "metadata": {},
   "source": [
    "# 2. Cloud Deployment <a id='cloud_deployment'></a>"
   ]
  },
  {
   "cell_type": "code",
   "execution_count": null,
   "metadata": {},
   "outputs": [],
   "source": [
    "# import modules\n",
    "import warnings\n",
    "warnings.filterwarnings(\"ignore\")\n",
    "import json, numpy as np, os, timeit \n",
    "from IPython.display import display\n",
    "from cvtk import ClassificationDataset, CNTKTLModel, Context, Splitter, StorageContext\n",
    "import cvtk\n",
    "import matplotlib.pyplot as plt\n",
    "%matplotlib inline\n",
    "\n",
    "# Disable printing of logging messages\n",
    "from azuremltkbase.logging import ToolkitLogger\n",
    "ToolkitLogger.getInstance().setEnabled(False)\n",
    "\n",
    "# Set storage context.\n",
    "out_root_path = \"../../../cvtk_output\"\n",
    "Context.create(outputs_path=out_root_path, persistent_path=out_root_path, temp_path=out_root_path)"
   ]
  },
  {
   "cell_type": "markdown",
   "metadata": {},
   "source": [
    "### Load a saved model for deployment\n",
    "You can persist your model on disk and reuse it later for deployment. After that you can load a previously saved model for deployment. Note: Object detection model currently doesn't support: saving to disk and reusing it for deployment. However you can directly use your object detection object for deployment.\n",
    "\n",
    "> You use the following example code to save your model to disk and reuse it for deployment.\n",
    "\n",
    "```\n",
    "import os\n",
    "save_model_path = os.path.join(Context.get_global_context().storage.persistent_path, \"saved_classifier.model\")\n",
    "# Save model to disk\n",
    "dnn_model.save(save_model_path)\n",
    "```"
   ]
  },
  {
   "cell_type": "code",
   "execution_count": null,
   "metadata": {},
   "outputs": [],
   "source": [
    "# # Example code to load a saved model from disk\n",
    "# from cvtk import CNTKTLModel, Context\n",
    "# dnn_model = CNTKTLModel.load(save_model_path)"
   ]
  },
  {
   "cell_type": "markdown",
   "metadata": {},
   "source": [
    "### Deploy a computer vision model\n",
    "First, create an AMLDeployment object (`deploy_obj` in the example) by providing a name (Please use lower case alphabets and numeric format with lenth 3-32. Example: mydeployment3), your model and other optional information. Then you can use `deploy()` function to deploy your model. Once the deployment is finished. You will get your service id, service endpoint url, and service key. Please keep them for future reference."
   ]
  },
  {
   "cell_type": "code",
   "execution_count": null,
   "metadata": {},
   "outputs": [],
   "source": [
    "from cvtk.operationalization import AMLDeployment\n",
    "\n",
    "# Set deployment name\n",
    "# Please use lower case alphabets and numeric format with lenth 3-32. Example: mydeployment3\n",
    "deployment_name = \"wsdeployment\"\n",
    "\n",
    "# Create deployment object\n",
    "# It will use the current deployment environment (you can check it with CLI command \"az ml env show\").\n",
    "deploy_obj = AMLDeployment(deployment_name=deployment_name, aml_env=\"cluster\", associated_DNNModel=dnn_model, replicas=1)\n",
    "\n",
    "# Alternatively, you can provide azure machine learning deployment cluster name (environment name) and resource group name\n",
    "# to deploy your model. It will use the provided cluster to deploy. To do that, please uncomment the following lines to create \n",
    "# the deployment object.\n",
    "\n",
    "# azureml_rscgroup = \"<resource group>\"\n",
    "# cluster_name = \"<cluster name>\"\n",
    "# deploy_obj = AMLDeployment(deployment_name=deployment_name, associated_DNNModel=dnn_model,\n",
    "#                            aml_env=\"cluster\", cluster_name=cluster_name, resource_group=azureml_rscgroup, replicas=1)\n",
    "\n",
    "# Check if the deployment name exists, if yes remove it first.\n",
    "# Note: This will delete existing webservice with the same name. Do not delete the webservice unintentionally. \n",
    "if deploy_obj.is_existing_service():\n",
    "    AMLDeployment.delete_if_service_exist(deployment_name)\n",
    "    \n",
    "# create the webservice\n",
    "print(\"Deploying to Azure cluster...\")\n",
    "deploy_obj.deploy()\n",
    "print(\"Deployment DONE\")"
   ]
  },
  {
   "cell_type": "markdown",
   "metadata": {},
   "source": [
    "# 3. Webservice comsumption\n",
    "\n",
    "Once you created the webservice, you can score images with the deployed webservice. You have several options:\n",
    "\n",
    "   - Directly score the webservice with the deployment object: deploy_obj.score_image(image_path_or_url) \n",
    "   - Service endpoint URL and Serivce key (none for local deployment): AMLDeployment.score_existing_service_with_image(image_path_or_url, service_endpoint_url, service_key=None)\n",
    "   - HTTP requests directly to score the webservice endpoint (for advanced users)."
   ]
  },
  {
   "cell_type": "markdown",
   "metadata": {},
   "source": [
    "#### Score with existing deployment object\n",
    "```\n",
    "deploy_obj.score_image(image_path_or_url)\n",
    "```"
   ]
  },
  {
   "cell_type": "code",
   "execution_count": null,
   "metadata": {},
   "outputs": [],
   "source": [
    "# Score with existing deployment object\n",
    "\n",
    "# Score local image with file path\n",
    "print(\"Score local image with file path\")\n",
    "image_path_or_url = test_set.images[0].storage_path\n",
    "print(\"Image source:\",image_path_or_url)\n",
    "serialized_result_in_json = deploy_obj.score_image(image_path_or_url, image_resize_dims=[224,224])\n",
    "print(\"serialized_result_in_json:\", serialized_result_in_json)\n",
    "\n",
    "# Score image url and remove image resizing\n",
    "print(\"Score image url\")\n",
    "image_path_or_url = \"https://cvtkdata.blob.core.windows.net/publicimages/microsoft_logo.jpg\"\n",
    "print(\"Image source:\",image_path_or_url)\n",
    "serialized_result_in_json = deploy_obj.score_image(image_path_or_url)\n",
    "print(\"serialized_result_in_json:\", serialized_result_in_json)\n",
    "\n",
    "# Score image url with added paramters. Add softmax to score.\n",
    "print(\"Score image url with added paramters. Add softmax to score\")\n",
    "from cvtk.utils.constants import ClassificationRESTApiParamters\n",
    "image_path_or_url = \"https://cvtkdata.blob.core.windows.net/publicimages/microsoft_logo.jpg\"\n",
    "print(\"Image source:\",image_path_or_url)\n",
    "serialized_result_in_json = deploy_obj.score_image(image_path_or_url, image_resize_dims=[224,224], parameters={ClassificationRESTApiParamters.ADD_SOFTMAX:True})\n",
    "print(\"serialized_result_in_json:\", serialized_result_in_json)"
   ]
  },
  {
   "cell_type": "code",
   "execution_count": null,
   "metadata": {},
   "outputs": [],
   "source": [
    "# Time image scoring\n",
    "import timeit\n",
    "\n",
    "num_images = 10\n",
    "for img_index, img_obj in enumerate(test_set.images[:num_images]):\n",
    "    print(\"Calling API for image {} of {}: {}...\".format(img_index, num_images, img_obj.name))\n",
    "    tic = timeit.default_timer()\n",
    "    return_json = deploy_obj.score_image(img_obj.storage_path, image_resize_dims=[224,224])\n",
    "    print(\"   Time for API call: {:.2f} seconds\".format(timeit.default_timer() - tic))\n",
    "    print(return_json)"
   ]
  },
  {
   "cell_type": "markdown",
   "metadata": {},
   "source": [
    "#### Score with service endpoint url and service key\n",
    "`AMLDeployment.score_existing_service_with_image(image_path_or_url, service_endpoint_url, service_key=None)`"
   ]
  },
  {
   "cell_type": "code",
   "execution_count": null,
   "metadata": {},
   "outputs": [],
   "source": [
    "# Import related classes and functions\n",
    "from cvtk.operationalization import AMLDeployment\n",
    "\n",
    "service_endpoint_url = \"\" # please replace with your own service url\n",
    "service_key = \"\" # please replace with your own service key\n",
    "# score local image with file path\n",
    "image_path_or_url = test_set.images[0].storage_path\n",
    "print(\"Image source:\",image_path_or_url)\n",
    "serialized_result_in_json = AMLDeployment.score_existing_service_with_image(image_path_or_url,service_endpoint_url, service_key = service_key)\n",
    "print(\"serialized_result_in_json:\", serialized_result_in_json)\n",
    "\n",
    "# score image url\n",
    "image_path_or_url = \"https://cvtkdata.blob.core.windows.net/publicimages/microsoft_logo.jpg\"\n",
    "print(\"Image source:\",image_path_or_url)\n",
    "serialized_result_in_json = AMLDeployment.score_existing_service_with_image(image_path_or_url,service_endpoint_url, service_key = service_key, image_resize_dims=[224,224])\n",
    "print(\"serialized_result_in_json:\", serialized_result_in_json)"
   ]
  },
  {
   "cell_type": "markdown",
   "metadata": {},
   "source": [
    "#### Score endpoint with http request directly\n",
    "Following is some example code to form the http request directly in Python. This can be done in other programming languages since it uses a direct http request."
   ]
  },
  {
   "cell_type": "code",
   "execution_count": null,
   "metadata": {},
   "outputs": [],
   "source": [
    "def score_image_with_http(image, service_endpoint_url, service_key=None, parameters={}):\n",
    "    \"\"\"Score local image with http request\n",
    "\n",
    "    Args:\n",
    "        image (str): Image file path\n",
    "        service_endpoint_url(str): web service endpoint url\n",
    "        service_key(str): Service key. None for local deployment.\n",
    "        parameters (dict): Additional request paramters in dictionary. Default is {}.\n",
    "\n",
    "\n",
    "    Returns:\n",
    "        str: serialized result \n",
    "    \"\"\"\n",
    "    import requests\n",
    "    from io import BytesIO\n",
    "    import base64\n",
    "    import json\n",
    "\n",
    "    if service_key is None:\n",
    "        headers = {'Content-Type': 'application/json'}\n",
    "    else:\n",
    "        headers = {'Content-Type': 'application/json',\n",
    "                   \"Authorization\": ('Bearer ' + service_key)}\n",
    "    payload = []\n",
    "    encoded = None\n",
    "    \n",
    "    # Read image\n",
    "    with open(image,'rb') as f:\n",
    "        image_buffer = BytesIO(f.read()) ## Getting an image file represented as a BytesIO object\n",
    "        \n",
    "    # Convert your image to base64 string\n",
    "    # image_in_base64 : \"b'{base64}'\"\n",
    "    encoded = base64.b64encode(image_buffer.getvalue())\n",
    "    image_request = {\"image_in_base64\": \"{0}\".format(encoded), \"parameters\": parameters}\n",
    "    payload.append(image_request)\n",
    "    body = json.dumps(payload)\n",
    "    r = requests.post(service_endpoint_url, data=body, headers=headers)\n",
    "    try:\n",
    "        result = json.loads(r.text)\n",
    "        json.loads(result[0])\n",
    "    except:\n",
    "        raise ValueError(\"Incorrect output format. Result cant not be parsed: \" + r.text)\n",
    "    return result[0]\n"
   ]
  },
  {
   "cell_type": "markdown",
   "metadata": {},
   "source": [
    "### Parse serialized result from webservice\n",
    "The result from the webserice is a json formated string. You can follow the example code in each notebooks to parse it (**Parse serialized result from webservice** section)."
   ]
  },
  {
   "cell_type": "markdown",
   "metadata": {},
   "source": [
    "# 4. Edge Deployment<a id='edge_deployment'></a>"
   ]
  },
  {
   "cell_type": "markdown",
   "metadata": {},
   "source": [
    "## Introduction:\n",
    "\n",
    "The integration of computer vison models and [Azure IoT Edge](https://aka.ms/azure-iot-edge-doc) enables organizations and developers to apply computer vision models to data that can’t make it to the cloud due to data sovereignty, privacy, and/or bandwidth issues. All models created using the AML package can now be deployed to IoT gateways and devices with the Azure IoT Edge runtime. Models are operationalized as containers by [Azure Machine Learning](https://docs.microsoft.com/en-us/azure/machine-learning/preview/) and can run on many types of hardware.\n",
    "\n",
    "Azure IoT Edge moves cloud analytics and custom business logic to devices so that your organization can focus on business insights instead of data management. Enable your solution to truly scale by configuring your IoT software, deploying it to devices via standard containers, and monitoring it all from the cloud.\n",
    "\n",
    "This notebook provides instructions on how to deploy computer vision models developed by the AML package in Azure IoT Edge-compatible Docker containers and expose those models as REST APIs."
   ]
  },
  {
   "cell_type": "markdown",
   "metadata": {},
   "source": [
    "###  Prerequisites \n",
    "- Edge device with supported platform - Windows 10, Linux/Mac. Note: Windows DSVM/DLVM (Windows Server OS) is not supported well now. If you can get docker running in Linux container mode in your Windows Server device, it also works (Out of scope of this instruction). \n",
    "- Docker. Make sure docker is running on your device, and in Linux containers mode. If you don't have it on your device, please install it first: \n",
    "    * [Install Docker for Windows](https://docs.docker.com/docker-for-windows/install/)\n",
    "    * [Install Docker for Linux](https://docs.docker.com/install/linux/docker-ce/ubuntu/)\n",
    "    * [Install Docker for Mac](https://docs.docker.com/docker-for-mac/install/)\n",
    "- Python pip, make sure you can use the pip command. \n",
    "   * [Install Python on Windows](https://www.python.org/downloads/)\n",
    "   * MacOS: `sudo easy_install pip`\n",
    "   * Lixun: `sudo apt-get install python-pip`\n",
    "- IoT Edge runtime:\n",
    "    * `pip install -U azure-iot-edge-runtime-ctl`\n"
   ]
  },
  {
   "cell_type": "markdown",
   "metadata": {},
   "source": [
    "## Setup:\n",
    "1. [Create an IoT hub with Azure CLI](https://docs.microsoft.com/en-us/azure/iot-edge/quickstart#create-an-iot-hub-with-azure-cli), if you don't have one.\n",
    "1. [Register an IoT Edge device](https://docs.microsoft.com/en-us/azure/iot-edge/quickstart#register-an-iot-edge-device)\n",
    "1. Configure the IoT Edge runtime. [Windows](https://docs.microsoft.com/en-us/azure/iot-edge/quickstart#configure-the-iot-edge-runtime), [Linux/Mac](https://docs.microsoft.com/en-us/azure/iot-edge/quickstart#configure-the-iot-edge-runtime)\n",
    "- Create the Docker container with the package:\n",
    "    * Train your model. Follow the examples in the notebooks.\n",
    "    * Create docker image:\n",
    "    > Example code\n",
    "    ```\n",
    "    deploy_obj = AMLDeployment(deployment_name=image_name, associated_DNNModel=dnn_model) # dnn_model is the model you trained\n",
    "    deploy_obj.build_docker_image()\n",
    "    ```\n",
    "1. Find your container image information:\n",
    "    * Find your model management account on the [Azure portal](https://portal.azure.com/). You can find it by searching for your model management account name or you can find it under your resource group. \n",
    "    * Go to your model management account link and click \"Model Management\" under \"APPLICATION SETTINGS\" section.\n",
    "    * Find your image under Images and get your **image address** link. You will need this for deloyment in the next section. It will be something similar to this: mlcrpacr************.azurecr.io/imagesimilarity:4. mlcrpacr************ is your <b>Azure Container Registry name</b>.\n",
    "1. [Get your container registry login information](https://docs.microsoft.com/en-us/azure/iot-edge/tutorial-deploy-machine-learning#view-the-container-repository):\n",
    "    * On the Azure portal, go to All Services and Select Container registries.\n",
    "    * Select your Registry registry (The name you got from the previous step). The name should start with **mlcr** and it belongs to the resource group, location, and subscription that you used to set up Module Management account.\n",
    "    * Select Access keys\n",
    "    * Copy the **Login server**, **Username**, and **Password**. You need these to access the registry from your Edge devices.\n",
    "1. [Add registry credentials to your Edge device](https://docs.microsoft.com/en-us/azure/iot-edge/tutorial-deploy-machine-learning#add-registry-credentials-to-your-edge-device). You only need to do this once.\n",
    "    * ```iotedgectl login --address <registry-login-server> --username <registry-username> --password <registry-password>```\n"
   ]
  },
  {
   "cell_type": "markdown",
   "metadata": {},
   "source": [
    "## Deploy computer vision container image to IoT Edge device:\n",
    "1. On the Azure portal, navigate to your IoT hub.\n",
    "1. Go to IoT Edge (preview) and select your IoT Edge device.\n",
    "1. Select **Set modules**.\n",
    "1. Select **Add IoT Edge Module**.\n",
    "1. In the **Name** field, enter a name, **yourmodulename**. \n",
    "1. In the **Image** field, enter your **image address** you found in the previous section. For example: `<registry_name>.azurecr.io/machinelearningmodule:1`.\n",
    "1. In the Container Create Options field, set the following config. You can change the \"HostPort\" Binding port number (5001) to your desired **port** number.\n",
    "    > \n",
    "    ```\n",
    "    {\n",
    "      \"HostConfig\": {\n",
    "        \"PortBindings\": {\n",
    "          \"5001/tcp\": [\n",
    "            {\n",
    "              \"HostPort\": \"5001\"\n",
    "            }\n",
    "          ]\n",
    "        }\n",
    "      }\n",
    "    }\n",
    "    ```\n",
    "\n",
    "1. Select **Save**.\n",
    "1. Back in the Add Modules step, select **Next**.\n",
    "1. In the Specify Routes step. Put the following: If you need to have advanced routes, like sending data to cloud, sending data between containers, please modify config based on your need.\n",
    "```\n",
    "{}\n",
    "```\n",
    "1. Select **Next**.\n",
    "1. In the Review Template step, select **Submit**.\n",
    "1. Return to the device details page and select **Refresh**. You should see the new **yourmodulename** module running.\n",
    "1. After it is deployed. Your local **service endpoint** will be \"http://localhost:5001/score\". The port number **5001** is the one you set in previous step. You can check the running status locally by: `docker ps`"
   ]
  },
  {
   "cell_type": "markdown",
   "metadata": {},
   "source": [
    "## IoT Edge deployment local scoring\n",
    "Once the deployment is finished, you can make REST API requests to the **service endpoint** for scoring.\n",
    "Here is a sample script in Python and C# for scoring. You can construct REST API calls in any programming language by following the schema in the example scripts."
   ]
  },
  {
   "cell_type": "code",
   "execution_count": null,
   "metadata": {},
   "outputs": [],
   "source": [
    "# Following is an example python script to score a deployed model:\n",
    "\n",
    "def score_image_with_http(image, service_endpoint_url, service_key=None, parameters={}):\n",
    "    \"\"\"Score local image with http request\n",
    "\n",
    "    Args:\n",
    "        image (str): Image file path\n",
    "        service_endpoint_url(str): web service endpoint url\n",
    "        service_key(str): Service key. None for local deployment.\n",
    "        parameters (dict): Additional request paramters in dictionary. Default is {}.\n",
    "\n",
    "\n",
    "    Returns:\n",
    "        str: serialized result \n",
    "    \"\"\"\n",
    "    import requests\n",
    "    from io import BytesIO\n",
    "    import base64\n",
    "    import json\n",
    "\n",
    "    if service_key is None:\n",
    "        headers = {'Content-Type': 'application/json'}\n",
    "    else:\n",
    "        headers = {'Content-Type': 'application/json',\n",
    "                   \"Authorization\": ('Bearer ' + service_key)}\n",
    "    payload = []\n",
    "    encoded = None\n",
    "    \n",
    "    # Read image\n",
    "    with open(image,'rb') as f:\n",
    "        image_buffer = BytesIO(f.read()) ## Getting an image file represented as a BytesIO object\n",
    "        \n",
    "    # Convert your image to base64 string\n",
    "    # image_in_base64 : \"b'{base64}'\"\n",
    "    encoded = base64.b64encode(image_buffer.getvalue())\n",
    "    image_request = {\"image_in_base64\": \"{0}\".format(encoded), \"parameters\": parameters}\n",
    "    payload.append(image_request)\n",
    "    body = json.dumps(payload)\n",
    "    r = requests.post(service_endpoint_url, data=body, headers=headers)\n",
    "    try:\n",
    "        result = json.loads(r.text)\n",
    "        json.loads(result[0])\n",
    "    except:\n",
    "        raise ValueError(\"Incorrect output format. Result cant not be parsed: \" + r.text)\n",
    "    return result[0]\n",
    "\n",
    "# Test with images\n",
    "image = test_set.images[0].storage_path # A local image file\n",
    "score_image_with_http(image, service_endpoint_url, service_key=None) # Local scoring the service_key is None"
   ]
  },
  {
   "cell_type": "code",
   "execution_count": null,
   "metadata": {},
   "outputs": [],
   "source": [
    "# Following is an example C# script to score a deployed model:\n",
    "using Newtonsoft.Json;\n",
    "using System;\n",
    "using System.IO;\n",
    "using System.Net.Http;\n",
    "using System.Text;\n",
    "\n",
    "namespace ExampleScoring\n",
    "{\n",
    "    class Program\n",
    "    {\n",
    "        static void Main()\n",
    "        {\n",
    "            const string url = \"http://localhost:5001/score\";\n",
    "            const string imgPath = \"eval.jpg\";\n",
    "\n",
    "            using (var client = new HttpClient())\n",
    "            {\n",
    "                var bytes = File.ReadAllBytes(imgPath);\n",
    "                var base64 = Convert.ToBase64String(bytes, Base64FormattingOptions.None);\n",
    "                var data = new[]\n",
    "                {\n",
    "                    new\n",
    "                    {\n",
    "                        image_in_base64 = $\"b'{base64}'\",\n",
    "                        parameters = new { }\n",
    "                    }\n",
    "                };\n",
    "                var json = JsonConvert.SerializeObject(data);\n",
    "                var content = new StringContent(json, Encoding.UTF8, \"application/json\");\n",
    "\n",
    "                var routingId = \"\";\n",
    "                client.DefaultRequestHeaders.Add(\"X-Marathon-App-Id\", routingId);\n",
    "\n",
    "                var response = client.PostAsync(url, content).Result;\n",
    "                var result = response.Content.ReadAsStringAsync().Result;\n",
    "                Console.WriteLine($\"{response.StatusCode}: {result}\");\n",
    "                Console.ReadLine();\n",
    "            }\n",
    "        }\n",
    "    }\n",
    "}\n"
   ]
  },
  {
   "cell_type": "markdown",
   "metadata": {},
   "source": [
    "## Deployment API:\n",
    "\n",
    "> **Examples:**\n",
    "- ```deploy_obj = AMLDeployment(deployment_name=deployment_name, associated_DNNModel=dnn_model, aml_env=\"cluster\")``` # create deployment object\n",
    "- ```deploy_obj.deploy()``` # deploy web service\n",
    "- ```deploy_obj.status()``` # get status of deployment\n",
    "- ```deploy_obj.score_image(local_image_path_or_image_url)``` # score an image\n",
    "- ```deploy_obj.delete()``` # delete the web service\n",
    "- ```deploy_obj.build_docker_image()``` # build docker image without creating webservice\n",
    "- ```AMLDeployment.list_deployment()``` # list existing deployment\n",
    "- ```AMLDeployment.delete_if_service_exist(deployment_name)``` # delete if the service exists with the deployment name\n",
    "\n",
    "## API Documentation:\n",
    "\n",
    "For more API details, please check the API doc. For more advanced operations related to deployment, please check the [model management CLI reference](https://docs.microsoft.com/en-us/azure/machine-learning/preview/model-management-cli-reference).\n",
    "\n",
    "## Deployment management with web portal:\n",
    "\n",
    "You can go to [Azure portal](https://ms.portal.azure.com/) to track and manage your deployments. From Azure portal, find your Machine Learning Model Management account page (You can search for your model management account name). Then go to: the model management account page->Model Management->Services.\n",
    "\n",
    "# 5. Advanced topics and FAQ:<a id='FAQ'></a>\n",
    "- [Enable SSL on an Azure Machine Learning Compute cluster and score with HTTPS](https://docs.microsoft.com/en-us/azure/machine-learning/desktop-workbench/how-to-setup-ssl-on-mlc)\n",
    "- [Scale clusters and services](https://docs.microsoft.com/en-us/azure/machine-learning/desktop-workbench/how-to-scale-clusters)\n",
    "- [Model Management CLI reference](https://docs.microsoft.com/en-us/azure/machine-learning/desktop-workbench/model-management-cli-reference)\n",
    "- [Load Testing](https://blogs.technet.microsoft.com/machinelearning/2018/05/02/kubernetes-load-testing/)"
   ]
  },
  {
   "cell_type": "markdown",
   "metadata": {},
   "source": [
    "# 6.Troubleshooting:<a id='troubleshooting'></a>\n",
    "- Missing Azure CLI package? \n",
    "    >If you see some python azure packages are missing when running \"az ml ..\" commands, please run \"pip install -r https://aka.ms/az-ml-o16n-cli-requirements-file\" in AML Workbench command line prompt to update your CLI packages. This may happen if you upgrade your AML Workbench from an old version.\n",
    "- Timeout error when building Docker Image? \n",
    "    >You can try a model management account with a different region. Region of \"eastus2\" sometimes has timeout issue.\n",
    "- Cluster setup fail? \n",
    "    >If you cluster setup ends up in \"Failed\" status, you can try a different region. There is a known issue with region of \"westcentralus\". \n",
    "- Warning error when running CLI setup helper, \"WARNING: The behavior of this command has been altered by the following extension: azure-cli-ml\"?\n",
    "    >Please try \"pip uninstall azure-cli-ml\". This is because your upgraded workbench has duplicate versions of azure-cli-ml package.\n",
    "- Interactive CLI setup helper doesn't work correctly? \n",
    "    >You can try the manual CLI setup option in this notebook.\n",
    "- [More troubleshooting service deployment and environment setup guide](https://docs.microsoft.com/en-us/azure/machine-learning/desktop-workbench/how-to-deploy-troubleshooting-guide)"
   ]
  }
 ],
 "metadata": {
  "kernelspec": {
   "display_name": "Python 3",
   "language": "python",
   "name": "python3"
  },
  "language_info": {
   "codemirror_mode": {
    "name": "ipython",
    "version": 3
   },
   "file_extension": ".py",
   "mimetype": "text/x-python",
   "name": "python",
   "nbconvert_exporter": "python",
   "pygments_lexer": "ipython3",
   "version": "3.5.2"
  }
 },
 "nbformat": 4,
 "nbformat_minor": 2
}
